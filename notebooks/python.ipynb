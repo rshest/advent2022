{
 "cells": [
  {
   "cell_type": "code",
   "execution_count": 1,
   "id": "a2f598be-2079-48f3-b97f-733efb2619a0",
   "metadata": {
    "execution": {
     "iopub.execute_input": "2022-12-01T09:39:06.743275Z",
     "iopub.status.busy": "2022-12-01T09:39:06.742796Z",
     "iopub.status.idle": "2022-12-01T09:39:06.749163Z",
     "shell.execute_reply": "2022-12-01T09:39:06.748572Z",
     "shell.execute_reply.started": "2022-12-01T09:39:06.743251Z"
    },
    "tags": []
   },
   "outputs": [
    {
     "name": "stdout",
     "output_type": "stream",
     "text": [
      "Answer 1: 71934\n",
      "Answer 2: 211447\n"
     ]
    }
   ],
   "source": [
    "# DAY 01\n",
    "data = open(\"../data/01.txt\").read()\n",
    "cals = [[int(y) for y in x.split(\"\\n\")] \n",
    "        for x in data.split(\"\\n\\n\")]\n",
    "\n",
    "res1 = max(sum(s) for s in cals)\n",
    "res2 = sum(sorted(sum(s) for s in cals)[-3:])\n",
    "\n",
    "print(f'Answer 1: {res1}\\nAnswer 2: {res2}')"
   ]
  },
  {
   "cell_type": "code",
   "execution_count": 32,
   "id": "0c518465",
   "metadata": {},
   "outputs": [
    {
     "name": "stdout",
     "output_type": "stream",
     "text": [
      "Answer 1: 13526\n",
      "Answer 2: 14204\n"
     ]
    }
   ],
   "source": [
    "# DAY 02\n",
    "data = [s.strip().split() for s in open(\"../data/02.txt\").readlines()]\n",
    "\n",
    "scores1 = {\n",
    "'X': 1,\n",
    "'Y': 2,\n",
    "'Z': 3,\n",
    "}\n",
    "\n",
    "scores2 = {\n",
    "('A', 'X'): 3,\n",
    "('B', 'X'): 0,\n",
    "('C', 'X'): 6,\n",
    "('A', 'Y'): 6,\n",
    "('B', 'Y'): 3,\n",
    "('C', 'Y'): 0,\n",
    "('A', 'Z'): 0,\n",
    "('B', 'Z'): 6,\n",
    "('C', 'Z'): 3,  \n",
    "}\n",
    "\n",
    "move_mapping = {\n",
    "('A', 'X'): 'Z',\n",
    "('B', 'X'): 'X',\n",
    "('C', 'X'): 'Y',\n",
    "('A', 'Y'): 'X',\n",
    "('B', 'Y'): 'Y',\n",
    "('C', 'Y'): 'Z',\n",
    "('A', 'Z'): 'Y',\n",
    "('B', 'Z'): 'Z',\n",
    "('C', 'Z'): 'X',  \n",
    "}\n",
    "\n",
    "def get_score1(a, b):\n",
    "    return scores1[b] + scores2[(a, b)]\n",
    "\n",
    "def get_score2(a, b):\n",
    "    move = move_mapping[(a, b)]\n",
    "    return scores1[move] + scores2[(a, move)]\n",
    "\n",
    "res1 = sum(get_score1(a, b) for (a, b) in data)\n",
    "res2 = sum(get_score2(a, b) for (a, b) in data)\n",
    "\n",
    "print(f'Answer 1: {res1}\\nAnswer 2: {res2}')"
   ]
  },
  {
   "cell_type": "code",
   "execution_count": 63,
   "id": "8037dc06-7b6b-4755-b0d9-8d919826d570",
   "metadata": {
    "execution": {
     "iopub.execute_input": "2022-12-04T13:31:48.571985Z",
     "iopub.status.busy": "2022-12-04T13:31:48.571565Z",
     "iopub.status.idle": "2022-12-04T13:31:48.586692Z",
     "shell.execute_reply": "2022-12-04T13:31:48.585959Z",
     "shell.execute_reply.started": "2022-12-04T13:31:48.571958Z"
    },
    "tags": []
   },
   "outputs": [
    {
     "name": "stdout",
     "output_type": "stream",
     "text": [
      "Answer 1: 8085\n",
      "Answer 2: 2515\n"
     ]
    }
   ],
   "source": [
    "# DAY 03\n",
    "def halve(s):\n",
    "    n = int(len(s) / 2)\n",
    "    return [s[:n], s[n:]]\n",
    "\n",
    "def get_priority(c):\n",
    "    n = ord(c)\n",
    "    if n >= ord('a') and n <= ord('z'):\n",
    "        return n - ord('a') + 1\n",
    "    elif n >= ord('A') and n <= ord('Z'):\n",
    "        return n - ord('A') + 27\n",
    "    else:\n",
    "        return 0\n",
    "    \n",
    "def get_matching(a, b):\n",
    "    return set(a).intersection(set(b))\n",
    "    \n",
    "lines = [s.strip() for s in open(\"../data/03.txt\").readlines()]\n",
    "halves = [halve(s) for s in lines]\n",
    "matching = [get_matching(x, y) for x, y in halves]\n",
    "res1 = sum(sum(get_priority(x) for x in s) for s in matching)\n",
    "\n",
    "res2 = 0\n",
    "for i in range(0, len(lines), 3):\n",
    "    matches = set(lines[i]).intersection(set(lines[i + 1])).intersection(set(lines[i + 2]))\n",
    "    res2 += sum(get_priority(x) for x in matches)\n",
    "\n",
    "print(f'Answer 1: {res1}\\nAnswer 2: {res2}')"
   ]
  },
  {
   "cell_type": "code",
   "execution_count": 64,
   "id": "975438e1-bbee-477f-81d7-628204c41432",
   "metadata": {
    "execution": {
     "iopub.execute_input": "2022-12-04T13:31:48.776356Z",
     "iopub.status.busy": "2022-12-04T13:31:48.775811Z",
     "iopub.status.idle": "2022-12-04T13:31:48.787281Z",
     "shell.execute_reply": "2022-12-04T13:31:48.786506Z",
     "shell.execute_reply.started": "2022-12-04T13:31:48.776331Z"
    },
    "tags": []
   },
   "outputs": [
    {
     "name": "stdout",
     "output_type": "stream",
     "text": [
      "Answer 1: 483\n",
      "Answer 2: 874\n"
     ]
    }
   ],
   "source": [
    "# DAY 04\n",
    "import re\n",
    "\n",
    "def parse(line):\n",
    "    parts = re.split(\"-|,\", line)\n",
    "    return [int(p) for p in parts]\n",
    "\n",
    "def contains(x, y, a, b):\n",
    "    return x >= a and y <= b\n",
    "\n",
    "def overlaps(x, y, a, b):\n",
    "    return (x <= b and y >= a) or (a <= y and b >= x)\n",
    "    \n",
    "data = [parse(s.strip()) for s in open(\"../data/04.txt\").readlines()]\n",
    "res1 = sum(contains(s[0], s[1], s[2], s[3]) or \n",
    "           contains(s[2], s[3], s[0], s[1]) for s in data)\n",
    "res2 = sum(overlaps(s[0], s[1], s[2], s[3]) for s in data)\n",
    "\n",
    "print(f'Answer 1: {res1}\\nAnswer 2: {res2}')"
   ]
  },
  {
   "cell_type": "code",
   "execution_count": 1,
   "id": "bb06a306-6e25-4bd6-a64c-6f5e12df5b33",
   "metadata": {
    "execution": {
     "iopub.execute_input": "2022-12-05T20:22:51.550649Z",
     "iopub.status.busy": "2022-12-05T20:22:51.539186Z",
     "iopub.status.idle": "2022-12-05T20:22:51.658161Z",
     "shell.execute_reply": "2022-12-05T20:22:51.657599Z",
     "shell.execute_reply.started": "2022-12-05T20:22:51.540045Z"
    },
    "tags": []
   },
   "outputs": [
    {
     "name": "stdout",
     "output_type": "stream",
     "text": [
      "Answer 1: ZWHVFWQWW\n",
      "Answer 2: HZFZCCWWV\n"
     ]
    }
   ],
   "source": [
    "# DAY05\n",
    "def parse_crates(lines):\n",
    "    w = int((len(lines[0]) + 1)/4)\n",
    "    h = len(lines)\n",
    "    tops = [0] * w\n",
    "    crates = []\n",
    "    for j in range(h):\n",
    "        line = lines[j]\n",
    "        cline = [' '] * w\n",
    "        for i in range(w):\n",
    "            c = line[1 + i * 4]\n",
    "            cline[i] = c\n",
    "            if c == ' ':\n",
    "                tops[i] += 1        \n",
    "        crates.append(cline)\n",
    "    crates.reverse()\n",
    "    for i in range(w):\n",
    "        tops[i] = h - tops[i]\n",
    "    return crates, tops\n",
    "\n",
    "def parse_moves(lines):\n",
    "    def parse_move(line):\n",
    "        parts = line.split()\n",
    "        return [int(parts[1]), int(parts[3]), int(parts[5])]\n",
    "    return [parse_move(line) for line in lines]\n",
    "\n",
    "def apply_move(crates, tops, m, reverse):\n",
    "    (n, src, dst) = m\n",
    "    src -= 1\n",
    "    dst -= 1\n",
    "    w = len(tops)\n",
    "    ts = tops[src]\n",
    "    td = tops[dst]\n",
    "    for i in range(n):\n",
    "        ps = ts - i - 1\n",
    "        pd = td + i if reverse else td + n - i - 1\n",
    "        while len(crates) <= pd:\n",
    "            crates.append([' '] * w)\n",
    "        crates[pd][dst] = crates[ps][src]\n",
    "        crates[ps][src] = ' '\n",
    "    tops[src] -= n\n",
    "    tops[dst] += n\n",
    "        \n",
    "def eval_crates(data, reverse):\n",
    "    parts = [s.split(\"\\n\") for s in data.split(\"\\n\\n\")]\n",
    "    crates, tops = parse_crates(parts[0][:-1])\n",
    "    moves = parse_moves(parts[1])\n",
    "    for m in moves:\n",
    "        apply_move(crates, tops, m, reverse)\n",
    "\n",
    "    return ''.join(crates[tops[i] - 1][i] for i in range(len(tops)))\n",
    "\n",
    "data = open(\"../data/05.txt\").read()\n",
    "\n",
    "res1, res2 = [eval_crates(data, r) for r in [True, False]]\n",
    "print(f'Answer 1: {res1}\\nAnswer 2: {res2}')"
   ]
  },
  {
   "cell_type": "code",
   "execution_count": 46,
   "id": "bebf4398-1de7-4f17-92ac-f853f3274095",
   "metadata": {
    "execution": {
     "iopub.execute_input": "2022-12-06T11:51:29.842728Z",
     "iopub.status.busy": "2022-12-06T11:51:29.842374Z",
     "iopub.status.idle": "2022-12-06T11:51:29.851368Z",
     "shell.execute_reply": "2022-12-06T11:51:29.850601Z",
     "shell.execute_reply.started": "2022-12-06T11:51:29.842702Z"
    },
    "tags": []
   },
   "outputs": [
    {
     "name": "stdout",
     "output_type": "stream",
     "text": [
      "Answer 1: 1953\n",
      "Answer 2: 2301\n"
     ]
    }
   ],
   "source": [
    "# DAY06\n",
    "from collections import defaultdict\n",
    "\n",
    "def get_unique_substring_pos(stream, n):\n",
    "    counts = defaultdict(lambda: 0)\n",
    "    for i, c in enumerate(stream):\n",
    "        counts[c] += 1\n",
    "        if i >= n:\n",
    "            cprev = stream[i - n]\n",
    "            cnt = counts[cprev] - 1\n",
    "            if cnt == 0:\n",
    "                del counts[cprev]\n",
    "            else:\n",
    "                counts[cprev] = cnt\n",
    "        if len(counts) == n:\n",
    "            return i + 1\n",
    "    return len(stream)\n",
    "\n",
    "stream = open(\"../data/06.txt\").read()\n",
    "\n",
    "res1 = get_unique_substring_pos(stream, 4)\n",
    "res2 = get_unique_substring_pos(stream, 14)\n",
    "print(f'Answer 1: {res1}\\nAnswer 2: {res2}')\n"
   ]
  },
  {
   "cell_type": "code",
   "execution_count": null,
   "id": "fba22b88-293f-46b1-a983-45141e3dad21",
   "metadata": {},
   "outputs": [],
   "source": []
  }
 ],
 "metadata": {
  "kernelspec": {
   "display_name": "Python 3 (ipykernel)",
   "language": "python",
   "name": "python3"
  },
  "language_info": {
   "codemirror_mode": {
    "name": "ipython",
    "version": 3
   },
   "file_extension": ".py",
   "mimetype": "text/x-python",
   "name": "python",
   "nbconvert_exporter": "python",
   "pygments_lexer": "ipython3",
   "version": "3.10.8"
  }
 },
 "nbformat": 4,
 "nbformat_minor": 5
}
